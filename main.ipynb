{
 "cells": [
  {
   "cell_type": "code",
   "execution_count": 12,
   "metadata": {},
   "outputs": [],
   "source": [
    "def exp(exp_num):\n",
    "    exp_name = f'exp_{str(exp_num).zfill(4)}'\n",
    "    !pipenv install -r requirements.txt\n",
    "    !python exp/{exp_name}/main.py"
   ]
  },
  {
   "cell_type": "code",
   "execution_count": 15,
   "metadata": {},
   "outputs": [
    {
     "name": "stdout",
     "output_type": "stream",
     "text": [
      "\u001b[32mCourtesy Notice\u001b[0m: Pipenv found itself running within a virtual environment, so it will automatically use that environment, instead of creating its own for any project. You can set \u001b[1mPIPENV_IGNORE_VIRTUALENVS=1\u001b[0m to force pipenv to ignore that environment and create its own instead. You can set \u001b[1mPIPENV_VERBOSITY=-1\u001b[0m to suppress this warning.\n",
      "\u001b[1mRequirements file provided! Importing into Pipfile...\u001b[0m\n",
      "\u001b[1mInstalling dependencies from Pipfile.lock (4a5bc1)...\u001b[0m\n",
      "To activate this project's virtualenv, run \u001b[33mpipenv shell\u001b[0m.\n",
      "Alternatively, run a command inside the virtualenv with \u001b[33mpipenv run\u001b[0m.\n",
      "/Users/nakagawaayato/git/2048_RL/exp/exp_0010/main.py:16: UserWarning: \n",
      "The version_base parameter is not specified.\n",
      "Please specify a compatability version level, or None.\n",
      "Will assume defaults for version 1.1\n",
      "  @hydra.main(config_path='config', config_name='config')\n",
      "/Users/nakagawaayato/.local/share/virtualenvs/2048_RL-3g713a6k/lib/python3.10/site-packages/hydra/_internal/hydra.py:119: UserWarning: Future Hydra versions will no longer change working directory at job runtime by default.\n",
      "See https://hydra.cc/docs/1.2/upgrades/1.1_to_1.2/changes_to_job_working_dir/ for more information.\n",
      "  ret = run_job(\n",
      "/Users/nakagawaayato/git/2048_RL/outputs/2023-03-08/05-35-17\n",
      "Error executing job with overrides: []\n",
      "Traceback (most recent call last):\n",
      "  File \"/Users/nakagawaayato/git/2048_RL/exp/exp_0010/main.py\", line 21, in main\n",
      "    import gym_2048\n",
      "ModuleNotFoundError: No module named 'gym_2048'\n",
      "\n",
      "Set the environment variable HYDRA_FULL_ERROR=1 for a complete stack trace.\n"
     ]
    }
   ],
   "source": [
    "exp(10)"
   ]
  },
  {
   "cell_type": "code",
   "execution_count": 1,
   "metadata": {},
   "outputs": [],
   "source": [
    "import pickle"
   ]
  },
  {
   "cell_type": "code",
   "execution_count": 16,
   "metadata": {},
   "outputs": [],
   "source": [
    "with open('/Users/nakagawaayato/git/2048_RL/outputs/exp_0010/best_model.pkl', 'rb') as f:\n",
    "    dic = pickle.load(f)"
   ]
  },
  {
   "cell_type": "code",
   "execution_count": 22,
   "metadata": {},
   "outputs": [],
   "source": [
    "import numpy as np\n",
    "lut = np.array(dic['model'])"
   ]
  },
  {
   "cell_type": "code",
   "execution_count": 24,
   "metadata": {},
   "outputs": [
    {
     "data": {
      "text/plain": [
       "405000"
      ]
     },
     "execution_count": 24,
     "metadata": {},
     "output_type": "execute_result"
    }
   ],
   "source": [
    "np.argmax(lut)"
   ]
  },
  {
   "cell_type": "code",
   "execution_count": 25,
   "metadata": {},
   "outputs": [],
   "source": [
    "class LUT:\n",
    "    def __init__(self):\n",
    "        self.lut = []\n",
    "        '''\n",
    "            0  1  2  3\n",
    "            4  5  6  7\n",
    "            8  9  10 11\n",
    "            12 13 14 15\n",
    "        '''\n",
    "\n",
    "        self.tuples = [\n",
    "            [0, 1, 4, 5], [1, 2, 5, 6], [2, 3, 6, 7],\n",
    "            [4, 5, 8, 9], [5, 6, 9, 10], [6, 7, 10, 11],\n",
    "            [8, 9, 12, 13], [9, 10, 13, 14], [10, 11, 14, 15],\n",
    "            [0, 1, 2, 3], [4, 5, 6, 7], [8, 9, 10, 11], [12, 13, 14, 15],\n",
    "            [0, 4, 8, 12], [1, 5, 9, 13], [2, 6, 10, 14], [3, 7, 11, 15]\n",
    "        ]\n",
    "        # self.tuples_arr = np.array(self.tuples)\n",
    "        self.reset_model()\n",
    "\n",
    "    def _state_convert(self, state):\n",
    "        '''\n",
    "            0, 2, 4, 8... -> 0, 1, 2, 3... に変換\n",
    "        '''\n",
    "        return np.log2(np.clip(state, a_min=1, a_max=None)).astype(np.int8)\n",
    "    \n",
    "    def get_value(self, state):\n",
    "\n",
    "        '''\n",
    "            state -> \n",
    "            for ntuple in ntuples:\n",
    "                ntupleでindexに変換 -> 検索\n",
    "        '''\n",
    "        value = 0\n",
    "        state = self._state_convert(state)\n",
    "        for tuple_idx, tuple in enumerate(self.tuples):\n",
    "            index = self._state2index(tuple, tuple_idx, state)\n",
    "            value += self.lut[index]\n",
    "        return value\n",
    "\n",
    "    def _state2index(self, tuple, tuple_idx, state):\n",
    "        idx_start = self.lut_split[tuple_idx]\n",
    "        idx = sum(state.reshape(-1)[tuple] * (15 ** np.array([0, 1, 2, 3])))    \n",
    "        return idx_start + idx\n",
    "\n",
    "    def learn(self, state, grad):\n",
    "        state = self._state_convert(state)\n",
    "        for tuple_idx, tuple in enumerate(self.tuples):\n",
    "            index = self._state2index(tuple, tuple_idx, state)\n",
    "            self.lut[index] += grad\n",
    "    \n",
    "    def reset_model(self):\n",
    "        lut_split = [0]\n",
    "        length = 0\n",
    "        for ntuple in self.tuples:\n",
    "            length += 15**len(ntuple)\n",
    "            lut_split.append(length)\n",
    "        self.lut = [0.0] * length\n",
    "        self.lut_split = lut_split\n",
    "    \n",
    "    def index2tuple(self, index):\n",
    "        for i, split in enumerate(self.lut_split):\n",
    "            if split <= index:\n",
    "                tuple_idx = i\n",
    "                idx = index - split\n",
    "        # idx.\n",
    "        # lut_split = [0]\n",
    "        # length = 0\n",
    "        # for ntuple in self.tuples:\n",
    "        #     length += 15**len(ntuple)\n",
    "        #     lut_split.append(length)"
   ]
  },
  {
   "cell_type": "code",
   "execution_count": 27,
   "metadata": {},
   "outputs": [],
   "source": [
    "lut = LUT()"
   ]
  },
  {
   "cell_type": "code",
   "execution_count": 28,
   "metadata": {},
   "outputs": [
    {
     "data": {
      "text/plain": [
       "<__main__.LUT at 0x13410c4c0>"
      ]
     },
     "execution_count": 28,
     "metadata": {},
     "output_type": "execute_result"
    }
   ],
   "source": [
    "lut.lu"
   ]
  },
  {
   "cell_type": "code",
   "execution_count": null,
   "metadata": {},
   "outputs": [],
   "source": []
  }
 ],
 "metadata": {
  "kernelspec": {
   "display_name": "2048_RL-3g713a6k",
   "language": "python",
   "name": "python3"
  },
  "language_info": {
   "codemirror_mode": {
    "name": "ipython",
    "version": 3
   },
   "file_extension": ".py",
   "mimetype": "text/x-python",
   "name": "python",
   "nbconvert_exporter": "python",
   "pygments_lexer": "ipython3",
   "version": "3.10.9"
  },
  "orig_nbformat": 4
 },
 "nbformat": 4,
 "nbformat_minor": 2
}
